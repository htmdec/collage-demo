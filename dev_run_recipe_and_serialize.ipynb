{
 "cells": [
  {
   "cell_type": "code",
   "metadata": {},
   "source": [
    "import json\n",
    "import logging\n",
    "\n",
    "from papermage_components.materials_recipe import MaterialsRecipe"
   ],
   "outputs": [],
   "execution_count": null
  },
  {
   "cell_type": "code",
   "metadata": {},
   "source": [
    "logging.basicConfig(level=logging.INFO)"
   ],
   "outputs": [],
   "execution_count": null
  },
  {
   "cell_type": "code",
   "metadata": {},
   "source": [
    "recipe = MaterialsRecipe(\n",
    "        grobid_server_url=\"http://grobid:8000\",\n",
    "        matie_url=\"http://matie:8000\",\n",
    "        chemdataextractor_url=\"http://chemdataextractor:8000\"\n",
    "    )"
   ],
   "outputs": [],
   "execution_count": null
  },
  {
   "metadata": {},
   "cell_type": "code",
   "source": "pdf_filename = \"data/collage_paper.pdf\"",
   "outputs": [],
   "execution_count": null
  },
  {
   "metadata": {},
   "cell_type": "code",
   "source": "parsed_paper = recipe.from_pdf(pdf_filename)",
   "outputs": [],
   "execution_count": null
  },
  {
   "metadata": {},
   "cell_type": "code",
   "source": [
    "with open(pdf_filename.replace(\"data/\", \"data/parsed_papers/\").replace(\".pdf\", \".json\"), \"w\") as f:\n",
    "  json.dump(parsed_paper.to_json(), f, indent=4)"
   ],
   "outputs": [],
   "execution_count": null
  },
  {
   "metadata": {},
   "cell_type": "markdown",
   "source": ""
  }
 ],
 "metadata": {
  "kernelspec": {
   "display_name": "papermage",
   "language": "python",
   "name": "python3"
  },
  "language_info": {
   "codemirror_mode": {
    "name": "ipython",
    "version": 3
   },
   "file_extension": ".py",
   "mimetype": "text/x-python",
   "name": "python",
   "nbconvert_exporter": "python",
   "pygments_lexer": "ipython3",
   "version": "3.11.9"
  }
 },
 "nbformat": 4,
 "nbformat_minor": 2
}
